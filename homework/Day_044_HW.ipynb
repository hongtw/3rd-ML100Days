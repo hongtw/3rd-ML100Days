{
 "cells": [
  {
   "cell_type": "markdown",
   "metadata": {},
   "source": [
    "## [作業重點]\n",
    "確保你了解隨機森林模型中每個超參數的意義，並觀察調整超參數對結果的影響\n",
    "\n",
    "### 實作 RandomForest 教學\n",
    "https://www.youtube.com/watch?v=QHOazyP-YlM"
   ]
  },
  {
   "cell_type": "markdown",
   "metadata": {},
   "source": [
    "## 作業\n",
    "\n",
    "1. 試著調整 RandomForestClassifier(...) 中的參數，並觀察是否會改變結果？\n",
    "2. 改用其他資料集 (boston, wine)，並與回歸模型與決策樹的結果進行比較"
   ]
  },
  {
   "cell_type": "code",
   "execution_count": 1,
   "metadata": {},
   "outputs": [],
   "source": [
    "from sklearn import datasets, metrics\n",
    "from sklearn.ensemble import RandomForestClassifier, RandomForestRegressor\n",
    "from sklearn.linear_model import LassoCV, RidgeCV, LinearRegression, LogisticRegression\n",
    "from sklearn.model_selection import cross_val_score\n",
    "from sklearn.metrics import mean_squared_error, make_scorer, accuracy_score"
   ]
  },
  {
   "cell_type": "markdown",
   "metadata": {},
   "source": [
    "# Dataset: boston"
   ]
  },
  {
   "cell_type": "code",
   "execution_count": 2,
   "metadata": {},
   "outputs": [
    {
     "name": "stdout",
     "output_type": "stream",
     "text": [
      "LinearRegression         : -34.70525594452492 +/- 45.57399920030865\n",
      "RandomForestRegressor    : -23.308536152941173 +/- 22.95802660384197\n"
     ]
    }
   ],
   "source": [
    "boston = datasets.load_boston()\n",
    "\n",
    "estimators = [\n",
    "    LinearRegression(),\n",
    "    RandomForestRegressor(),\n",
    "]\n",
    "\n",
    "for etr in estimators:\n",
    "    scores = cross_val_score(\n",
    "            etr,\n",
    "            boston.data, \n",
    "            boston.target,\n",
    "            cv=10,\n",
    "            scoring=make_scorer(mean_squared_error, greater_is_better=False),\n",
    "            n_jobs=-1,\n",
    "        )\n",
    "\n",
    "    print(f\"{str(etr).split('(')[0]:<25}: {scores.mean()} +/- {scores.std()}\")"
   ]
  },
  {
   "cell_type": "markdown",
   "metadata": {},
   "source": [
    "# Dataset: wine"
   ]
  },
  {
   "cell_type": "code",
   "execution_count": 3,
   "metadata": {},
   "outputs": [
    {
     "name": "stdout",
     "output_type": "stream",
     "text": [
      "LogisticRegression       : 0.9564327485380117 +/- 0.052492506317112934\n",
      "RandomForestClassifier   : 0.9722222222222221 +/- 0.03726779962499651\n"
     ]
    }
   ],
   "source": [
    "wine = datasets.load_wine()\n",
    "\n",
    "estimators = [\n",
    "    LogisticRegression(),\n",
    "    RandomForestClassifier(),\n",
    "]\n",
    "\n",
    "for etr in estimators:\n",
    "    scores = cross_val_score(\n",
    "            etr,\n",
    "            wine.data, \n",
    "            wine.target,\n",
    "            cv=10,\n",
    "            scoring=make_scorer(accuracy_score, greater_is_better=True),\n",
    "            n_jobs=-1,\n",
    "        )\n",
    "\n",
    "    print(f\"{str(etr).split('(')[0]:<25}: {scores.mean()} +/- {scores.std()}\")"
   ]
  }
 ],
 "metadata": {
  "kernelspec": {
   "display_name": "Python 3",
   "language": "python",
   "name": "python3"
  },
  "language_info": {
   "codemirror_mode": {
    "name": "ipython",
    "version": 3
   },
   "file_extension": ".py",
   "mimetype": "text/x-python",
   "name": "python",
   "nbconvert_exporter": "python",
   "pygments_lexer": "ipython3",
   "version": "3.7.3"
  }
 },
 "nbformat": 4,
 "nbformat_minor": 2
}
