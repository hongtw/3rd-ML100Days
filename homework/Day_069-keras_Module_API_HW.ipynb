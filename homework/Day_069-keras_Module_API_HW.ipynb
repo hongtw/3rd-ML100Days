{
 "cells": [
  {
   "cell_type": "markdown",
   "metadata": {},
   "source": [
    "# Keras Module API"
   ]
  },
  {
   "cell_type": "markdown",
   "metadata": {},
   "source": [
    "# 課程目標:\n",
    "    \n",
    "    了解Keras 函數式 API 的使用\n",
    "    "
   ]
  },
  {
   "cell_type": "markdown",
   "metadata": {},
   "source": [
    "# 範例重點: \n",
    "    了解函數式 API 的彈性"
   ]
  },
  {
   "cell_type": "code",
   "execution_count": 1,
   "metadata": {},
   "outputs": [
    {
     "name": "stderr",
     "output_type": "stream",
     "text": [
      "Using TensorFlow backend.\n"
     ]
    },
    {
     "name": "stdout",
     "output_type": "stream",
     "text": [
      "Python: 3.7.4 (default, Aug  9 2019, 18:34:13) [MSC v.1915 64 bit (AMD64)]\n",
      "Keras: 2.2.4\n",
      "Tensorflow: 1.14.0\n"
     ]
    }
   ],
   "source": [
    "import keras\n",
    "from keras.layers import Input, Embedding, LSTM, Dense\n",
    "from keras.models import Model\n",
    "import tensorflow as tf\n",
    "import sys\n",
    "\n",
    "print(f\"Python: {sys.version}\")\n",
    "print(f\"Keras: {keras.__version__}\")\n",
    "print(f\"Tensorflow: {tf.__version__}\")"
   ]
  },
  {
   "cell_type": "code",
   "execution_count": 2,
   "metadata": {},
   "outputs": [
    {
     "name": "stdout",
     "output_type": "stream",
     "text": [
      "WARNING:tensorflow:From C:\\Users\\bbqlp\\Anaconda3\\envs\\tf114-gpu\\lib\\site-packages\\keras\\backend\\tensorflow_backend.py:517: The name tf.placeholder is deprecated. Please use tf.compat.v1.placeholder instead.\n",
      "\n",
      "WARNING:tensorflow:From C:\\Users\\bbqlp\\Anaconda3\\envs\\tf114-gpu\\lib\\site-packages\\keras\\backend\\tensorflow_backend.py:74: The name tf.get_default_graph is deprecated. Please use tf.compat.v1.get_default_graph instead.\n",
      "\n",
      "WARNING:tensorflow:From C:\\Users\\bbqlp\\Anaconda3\\envs\\tf114-gpu\\lib\\site-packages\\keras\\backend\\tensorflow_backend.py:4138: The name tf.random_uniform is deprecated. Please use tf.random.uniform instead.\n",
      "\n"
     ]
    }
   ],
   "source": [
    "#主要輸入接收新聞標題本身，即一個整數序列（每個整數編碼一個詞）。\n",
    "#這些整數在1 到10,000 之間（10,000 個詞的詞彙表），且序列長度為100 個詞\n",
    "#宣告一個 NAME 去定義Input\n",
    "main_input = Input(shape=(100,), dtype='int32', name='main_input')\n",
    "\n",
    "\n",
    "# Embedding 層將輸入序列編碼為一個稠密向量的序列，\n",
    "# 每個向量維度為 512。\n",
    "x = Embedding(output_dim=512, input_dim=10000, input_length=100)(main_input)\n",
    "\n",
    "# LSTM 層把向量序列轉換成單個向量，\n",
    "# 它包含整個序列的上下文信息\n",
    "lstm_out = LSTM(32)(x)"
   ]
  },
  {
   "cell_type": "code",
   "execution_count": 3,
   "metadata": {},
   "outputs": [],
   "source": [
    "#插入輔助損失，使得即使在模型主損失很高的情況下，LSTM 層和 Embedding 層都能被平穩地訓練\n",
    "aux_output = Dense(1, activation='sigmoid', name='aux_out')(lstm_out)"
   ]
  },
  {
   "cell_type": "code",
   "execution_count": 4,
   "metadata": {},
   "outputs": [],
   "source": [
    "#輔助輸入數據與LSTM 層的輸出連接起來，輸入到模型\n",
    "aux_input = Input(shape=(5,), name='aux_in')\n",
    "x = keras.layers.concatenate([lstm_out, aux_input])\n",
    "\n",
    "\n",
    "# 堆疊多個全連接網路層\n",
    "\n",
    "for idx, units in enumerate((128, 128, 64), 1):\n",
    "    x = Dense(units, activation='relu', name=f'D{idx}')(x)\n",
    "    \n",
    "# 最後添加主要的邏輯回歸層\n",
    "main_output = Dense(1, activation='sigmoid', name='main_output')(x)"
   ]
  },
  {
   "cell_type": "code",
   "execution_count": 5,
   "metadata": {},
   "outputs": [],
   "source": [
    "# 宣告 MODEL API, 分別採用自行定義的 Input/Output Layer\n",
    "model = Model(inputs=[main_input, aux_input], outputs=[main_output, aux_output])"
   ]
  },
  {
   "cell_type": "code",
   "execution_count": 6,
   "metadata": {},
   "outputs": [
    {
     "name": "stdout",
     "output_type": "stream",
     "text": [
      "WARNING:tensorflow:From C:\\Users\\bbqlp\\Anaconda3\\envs\\tf114-gpu\\lib\\site-packages\\keras\\optimizers.py:790: The name tf.train.Optimizer is deprecated. Please use tf.compat.v1.train.Optimizer instead.\n",
      "\n",
      "WARNING:tensorflow:From C:\\Users\\bbqlp\\Anaconda3\\envs\\tf114-gpu\\lib\\site-packages\\keras\\backend\\tensorflow_backend.py:3376: The name tf.log is deprecated. Please use tf.math.log instead.\n",
      "\n",
      "WARNING:tensorflow:From C:\\Users\\bbqlp\\Anaconda3\\envs\\tf114-gpu\\lib\\site-packages\\tensorflow\\python\\ops\\nn_impl.py:180: add_dispatch_support.<locals>.wrapper (from tensorflow.python.ops.array_ops) is deprecated and will be removed in a future version.\n",
      "Instructions for updating:\n",
      "Use tf.where in 2.0, which has the same broadcast rule as np.where\n"
     ]
    }
   ],
   "source": [
    "model.compile(optimizer='rmsprop',\n",
    "              loss={'main_output': 'binary_crossentropy', 'aux_out': 'binary_crossentropy'},\n",
    "              loss_weights={'main_output': 1., 'aux_out': 0.2})"
   ]
  },
  {
   "cell_type": "code",
   "execution_count": 7,
   "metadata": {},
   "outputs": [
    {
     "name": "stdout",
     "output_type": "stream",
     "text": [
      "__________________________________________________________________________________________________\n",
      "Layer (type)                    Output Shape         Param #     Connected to                     \n",
      "==================================================================================================\n",
      "main_input (InputLayer)         (None, 100)          0                                            \n",
      "__________________________________________________________________________________________________\n",
      "embedding_1 (Embedding)         (None, 100, 512)     5120000     main_input[0][0]                 \n",
      "__________________________________________________________________________________________________\n",
      "lstm_1 (LSTM)                   (None, 32)           69760       embedding_1[0][0]                \n",
      "__________________________________________________________________________________________________\n",
      "aux_in (InputLayer)             (None, 5)            0                                            \n",
      "__________________________________________________________________________________________________\n",
      "concatenate_1 (Concatenate)     (None, 37)           0           lstm_1[0][0]                     \n",
      "                                                                 aux_in[0][0]                     \n",
      "__________________________________________________________________________________________________\n",
      "D1 (Dense)                      (None, 128)          4864        concatenate_1[0][0]              \n",
      "__________________________________________________________________________________________________\n",
      "D2 (Dense)                      (None, 128)          16512       D1[0][0]                         \n",
      "__________________________________________________________________________________________________\n",
      "D3 (Dense)                      (None, 64)           8256        D2[0][0]                         \n",
      "__________________________________________________________________________________________________\n",
      "main_output (Dense)             (None, 1)            65          D3[0][0]                         \n",
      "__________________________________________________________________________________________________\n",
      "aux_out (Dense)                 (None, 1)            33          lstm_1[0][0]                     \n",
      "==================================================================================================\n",
      "Total params: 5,219,490\n",
      "Trainable params: 5,219,490\n",
      "Non-trainable params: 0\n",
      "__________________________________________________________________________________________________\n"
     ]
    }
   ],
   "source": [
    "model.summary()"
   ]
  },
  {
   "cell_type": "code",
   "execution_count": 8,
   "metadata": {},
   "outputs": [
    {
     "data": {
      "image/svg+xml": [
       "<svg height=\"636pt\" viewBox=\"0.00 0.00 659.50 636.00\" width=\"660pt\" xmlns=\"http://www.w3.org/2000/svg\" xmlns:xlink=\"http://www.w3.org/1999/xlink\">\n",
       "<g class=\"graph\" id=\"graph0\" transform=\"scale(1 1) rotate(0) translate(4 632)\">\n",
       "<title>G</title>\n",
       "<polygon fill=\"white\" points=\"-4,4 -4,-632 655.5,-632 655.5,4 -4,4\" stroke=\"none\"/>\n",
       "<!-- 1981753369672 -->\n",
       "<g class=\"node\" id=\"node1\"><title>1981753369672</title>\n",
       "<polygon fill=\"none\" points=\"344,-581.5 344,-627.5 629,-627.5 629,-581.5 344,-581.5\" stroke=\"black\"/>\n",
       "<text font-family=\"Times New Roman,serif\" font-size=\"14.00\" text-anchor=\"middle\" x=\"417\" y=\"-600.8\">main_input: InputLayer</text>\n",
       "<polyline fill=\"none\" points=\"490,-581.5 490,-627.5 \" stroke=\"black\"/>\n",
       "<text font-family=\"Times New Roman,serif\" font-size=\"14.00\" text-anchor=\"middle\" x=\"518\" y=\"-612.3\">input:</text>\n",
       "<polyline fill=\"none\" points=\"490,-604.5 546,-604.5 \" stroke=\"black\"/>\n",
       "<text font-family=\"Times New Roman,serif\" font-size=\"14.00\" text-anchor=\"middle\" x=\"518\" y=\"-589.3\">output:</text>\n",
       "<polyline fill=\"none\" points=\"546,-581.5 546,-627.5 \" stroke=\"black\"/>\n",
       "<text font-family=\"Times New Roman,serif\" font-size=\"14.00\" text-anchor=\"middle\" x=\"587.5\" y=\"-612.3\">(None, 100)</text>\n",
       "<polyline fill=\"none\" points=\"546,-604.5 629,-604.5 \" stroke=\"black\"/>\n",
       "<text font-family=\"Times New Roman,serif\" font-size=\"14.00\" text-anchor=\"middle\" x=\"587.5\" y=\"-589.3\">(None, 100)</text>\n",
       "</g>\n",
       "<!-- 1981753369608 -->\n",
       "<g class=\"node\" id=\"node2\"><title>1981753369608</title>\n",
       "<polygon fill=\"none\" points=\"321.5,-498.5 321.5,-544.5 651.5,-544.5 651.5,-498.5 321.5,-498.5\" stroke=\"black\"/>\n",
       "<text font-family=\"Times New Roman,serif\" font-size=\"14.00\" text-anchor=\"middle\" x=\"403\" y=\"-517.8\">embedding_1: Embedding</text>\n",
       "<polyline fill=\"none\" points=\"484.5,-498.5 484.5,-544.5 \" stroke=\"black\"/>\n",
       "<text font-family=\"Times New Roman,serif\" font-size=\"14.00\" text-anchor=\"middle\" x=\"512.5\" y=\"-529.3\">input:</text>\n",
       "<polyline fill=\"none\" points=\"484.5,-521.5 540.5,-521.5 \" stroke=\"black\"/>\n",
       "<text font-family=\"Times New Roman,serif\" font-size=\"14.00\" text-anchor=\"middle\" x=\"512.5\" y=\"-506.3\">output:</text>\n",
       "<polyline fill=\"none\" points=\"540.5,-498.5 540.5,-544.5 \" stroke=\"black\"/>\n",
       "<text font-family=\"Times New Roman,serif\" font-size=\"14.00\" text-anchor=\"middle\" x=\"596\" y=\"-529.3\">(None, 100)</text>\n",
       "<polyline fill=\"none\" points=\"540.5,-521.5 651.5,-521.5 \" stroke=\"black\"/>\n",
       "<text font-family=\"Times New Roman,serif\" font-size=\"14.00\" text-anchor=\"middle\" x=\"596\" y=\"-506.3\">(None, 100, 512)</text>\n",
       "</g>\n",
       "<!-- 1981753369672&#45;&gt;1981753369608 -->\n",
       "<g class=\"edge\" id=\"edge1\"><title>1981753369672-&gt;1981753369608</title>\n",
       "<path d=\"M486.5,-581.366C486.5,-573.152 486.5,-563.658 486.5,-554.725\" fill=\"none\" stroke=\"black\"/>\n",
       "<polygon fill=\"black\" points=\"490,-554.607 486.5,-544.607 483,-554.607 490,-554.607\" stroke=\"black\"/>\n",
       "</g>\n",
       "<!-- 1981593763400 -->\n",
       "<g class=\"node\" id=\"node3\"><title>1981593763400</title>\n",
       "<polygon fill=\"none\" points=\"354,-415.5 354,-461.5 619,-461.5 619,-415.5 354,-415.5\" stroke=\"black\"/>\n",
       "<text font-family=\"Times New Roman,serif\" font-size=\"14.00\" text-anchor=\"middle\" x=\"403\" y=\"-434.8\">lstm_1: LSTM</text>\n",
       "<polyline fill=\"none\" points=\"452,-415.5 452,-461.5 \" stroke=\"black\"/>\n",
       "<text font-family=\"Times New Roman,serif\" font-size=\"14.00\" text-anchor=\"middle\" x=\"480\" y=\"-446.3\">input:</text>\n",
       "<polyline fill=\"none\" points=\"452,-438.5 508,-438.5 \" stroke=\"black\"/>\n",
       "<text font-family=\"Times New Roman,serif\" font-size=\"14.00\" text-anchor=\"middle\" x=\"480\" y=\"-423.3\">output:</text>\n",
       "<polyline fill=\"none\" points=\"508,-415.5 508,-461.5 \" stroke=\"black\"/>\n",
       "<text font-family=\"Times New Roman,serif\" font-size=\"14.00\" text-anchor=\"middle\" x=\"563.5\" y=\"-446.3\">(None, 100, 512)</text>\n",
       "<polyline fill=\"none\" points=\"508,-438.5 619,-438.5 \" stroke=\"black\"/>\n",
       "<text font-family=\"Times New Roman,serif\" font-size=\"14.00\" text-anchor=\"middle\" x=\"563.5\" y=\"-423.3\">(None, 32)</text>\n",
       "</g>\n",
       "<!-- 1981753369608&#45;&gt;1981593763400 -->\n",
       "<g class=\"edge\" id=\"edge2\"><title>1981753369608-&gt;1981593763400</title>\n",
       "<path d=\"M486.5,-498.366C486.5,-490.152 486.5,-480.658 486.5,-471.725\" fill=\"none\" stroke=\"black\"/>\n",
       "<polygon fill=\"black\" points=\"490,-471.607 486.5,-461.607 483,-471.607 490,-471.607\" stroke=\"black\"/>\n",
       "</g>\n",
       "<!-- 1981759074184 -->\n",
       "<g class=\"node\" id=\"node5\"><title>1981759074184</title>\n",
       "<polygon fill=\"none\" points=\"0,-332.5 0,-378.5 375,-378.5 375,-332.5 0,-332.5\" stroke=\"black\"/>\n",
       "<text font-family=\"Times New Roman,serif\" font-size=\"14.00\" text-anchor=\"middle\" x=\"86.5\" y=\"-351.8\">concatenate_1: Concatenate</text>\n",
       "<polyline fill=\"none\" points=\"173,-332.5 173,-378.5 \" stroke=\"black\"/>\n",
       "<text font-family=\"Times New Roman,serif\" font-size=\"14.00\" text-anchor=\"middle\" x=\"201\" y=\"-363.3\">input:</text>\n",
       "<polyline fill=\"none\" points=\"173,-355.5 229,-355.5 \" stroke=\"black\"/>\n",
       "<text font-family=\"Times New Roman,serif\" font-size=\"14.00\" text-anchor=\"middle\" x=\"201\" y=\"-340.3\">output:</text>\n",
       "<polyline fill=\"none\" points=\"229,-332.5 229,-378.5 \" stroke=\"black\"/>\n",
       "<text font-family=\"Times New Roman,serif\" font-size=\"14.00\" text-anchor=\"middle\" x=\"302\" y=\"-363.3\">[(None, 32), (None, 5)]</text>\n",
       "<polyline fill=\"none\" points=\"229,-355.5 375,-355.5 \" stroke=\"black\"/>\n",
       "<text font-family=\"Times New Roman,serif\" font-size=\"14.00\" text-anchor=\"middle\" x=\"302\" y=\"-340.3\">(None, 37)</text>\n",
       "</g>\n",
       "<!-- 1981593763400&#45;&gt;1981759074184 -->\n",
       "<g class=\"edge\" id=\"edge3\"><title>1981593763400-&gt;1981759074184</title>\n",
       "<path d=\"M405.192,-415.473C366.051,-404.87 318.974,-392.117 278.627,-381.187\" fill=\"none\" stroke=\"black\"/>\n",
       "<polygon fill=\"black\" points=\"279.359,-377.759 268.792,-378.522 277.529,-384.515 279.359,-377.759\" stroke=\"black\"/>\n",
       "</g>\n",
       "<!-- 1981736142088 -->\n",
       "<g class=\"node\" id=\"node10\"><title>1981736142088</title>\n",
       "<polygon fill=\"none\" points=\"393.5,-332.5 393.5,-378.5 629.5,-378.5 629.5,-332.5 393.5,-332.5\" stroke=\"black\"/>\n",
       "<text font-family=\"Times New Roman,serif\" font-size=\"14.00\" text-anchor=\"middle\" x=\"445\" y=\"-351.8\">aux_out: Dense</text>\n",
       "<polyline fill=\"none\" points=\"496.5,-332.5 496.5,-378.5 \" stroke=\"black\"/>\n",
       "<text font-family=\"Times New Roman,serif\" font-size=\"14.00\" text-anchor=\"middle\" x=\"524.5\" y=\"-363.3\">input:</text>\n",
       "<polyline fill=\"none\" points=\"496.5,-355.5 552.5,-355.5 \" stroke=\"black\"/>\n",
       "<text font-family=\"Times New Roman,serif\" font-size=\"14.00\" text-anchor=\"middle\" x=\"524.5\" y=\"-340.3\">output:</text>\n",
       "<polyline fill=\"none\" points=\"552.5,-332.5 552.5,-378.5 \" stroke=\"black\"/>\n",
       "<text font-family=\"Times New Roman,serif\" font-size=\"14.00\" text-anchor=\"middle\" x=\"591\" y=\"-363.3\">(None, 32)</text>\n",
       "<polyline fill=\"none\" points=\"552.5,-355.5 629.5,-355.5 \" stroke=\"black\"/>\n",
       "<text font-family=\"Times New Roman,serif\" font-size=\"14.00\" text-anchor=\"middle\" x=\"591\" y=\"-340.3\">(None, 1)</text>\n",
       "</g>\n",
       "<!-- 1981593763400&#45;&gt;1981736142088 -->\n",
       "<g class=\"edge\" id=\"edge9\"><title>1981593763400-&gt;1981736142088</title>\n",
       "<path d=\"M493.331,-415.366C495.894,-407.062 498.861,-397.451 501.644,-388.434\" fill=\"none\" stroke=\"black\"/>\n",
       "<polygon fill=\"black\" points=\"505.072,-389.194 504.677,-378.607 498.383,-387.13 505.072,-389.194\" stroke=\"black\"/>\n",
       "</g>\n",
       "<!-- 1981759074248 -->\n",
       "<g class=\"node\" id=\"node4\"><title>1981759074248</title>\n",
       "<polygon fill=\"none\" points=\"64,-415.5 64,-461.5 311,-461.5 311,-415.5 64,-415.5\" stroke=\"black\"/>\n",
       "<text font-family=\"Times New Roman,serif\" font-size=\"14.00\" text-anchor=\"middle\" x=\"124.5\" y=\"-434.8\">aux_in: InputLayer</text>\n",
       "<polyline fill=\"none\" points=\"185,-415.5 185,-461.5 \" stroke=\"black\"/>\n",
       "<text font-family=\"Times New Roman,serif\" font-size=\"14.00\" text-anchor=\"middle\" x=\"213\" y=\"-446.3\">input:</text>\n",
       "<polyline fill=\"none\" points=\"185,-438.5 241,-438.5 \" stroke=\"black\"/>\n",
       "<text font-family=\"Times New Roman,serif\" font-size=\"14.00\" text-anchor=\"middle\" x=\"213\" y=\"-423.3\">output:</text>\n",
       "<polyline fill=\"none\" points=\"241,-415.5 241,-461.5 \" stroke=\"black\"/>\n",
       "<text font-family=\"Times New Roman,serif\" font-size=\"14.00\" text-anchor=\"middle\" x=\"276\" y=\"-446.3\">(None, 5)</text>\n",
       "<polyline fill=\"none\" points=\"241,-438.5 311,-438.5 \" stroke=\"black\"/>\n",
       "<text font-family=\"Times New Roman,serif\" font-size=\"14.00\" text-anchor=\"middle\" x=\"276\" y=\"-423.3\">(None, 5)</text>\n",
       "</g>\n",
       "<!-- 1981759074248&#45;&gt;1981759074184 -->\n",
       "<g class=\"edge\" id=\"edge4\"><title>1981759074248-&gt;1981759074184</title>\n",
       "<path d=\"M187.5,-415.366C187.5,-407.152 187.5,-397.658 187.5,-388.725\" fill=\"none\" stroke=\"black\"/>\n",
       "<polygon fill=\"black\" points=\"191,-388.607 187.5,-378.607 184,-388.607 191,-388.607\" stroke=\"black\"/>\n",
       "</g>\n",
       "<!-- 1981759059272 -->\n",
       "<g class=\"node\" id=\"node6\"><title>1981759059272</title>\n",
       "<polygon fill=\"none\" points=\"81,-249.5 81,-295.5 294,-295.5 294,-249.5 81,-249.5\" stroke=\"black\"/>\n",
       "<text font-family=\"Times New Roman,serif\" font-size=\"14.00\" text-anchor=\"middle\" x=\"118\" y=\"-268.8\">D1: Dense</text>\n",
       "<polyline fill=\"none\" points=\"155,-249.5 155,-295.5 \" stroke=\"black\"/>\n",
       "<text font-family=\"Times New Roman,serif\" font-size=\"14.00\" text-anchor=\"middle\" x=\"183\" y=\"-280.3\">input:</text>\n",
       "<polyline fill=\"none\" points=\"155,-272.5 211,-272.5 \" stroke=\"black\"/>\n",
       "<text font-family=\"Times New Roman,serif\" font-size=\"14.00\" text-anchor=\"middle\" x=\"183\" y=\"-257.3\">output:</text>\n",
       "<polyline fill=\"none\" points=\"211,-249.5 211,-295.5 \" stroke=\"black\"/>\n",
       "<text font-family=\"Times New Roman,serif\" font-size=\"14.00\" text-anchor=\"middle\" x=\"252.5\" y=\"-280.3\">(None, 37)</text>\n",
       "<polyline fill=\"none\" points=\"211,-272.5 294,-272.5 \" stroke=\"black\"/>\n",
       "<text font-family=\"Times New Roman,serif\" font-size=\"14.00\" text-anchor=\"middle\" x=\"252.5\" y=\"-257.3\">(None, 128)</text>\n",
       "</g>\n",
       "<!-- 1981759074184&#45;&gt;1981759059272 -->\n",
       "<g class=\"edge\" id=\"edge5\"><title>1981759074184-&gt;1981759059272</title>\n",
       "<path d=\"M187.5,-332.366C187.5,-324.152 187.5,-314.658 187.5,-305.725\" fill=\"none\" stroke=\"black\"/>\n",
       "<polygon fill=\"black\" points=\"191,-305.607 187.5,-295.607 184,-305.607 191,-305.607\" stroke=\"black\"/>\n",
       "</g>\n",
       "<!-- 1981759059784 -->\n",
       "<g class=\"node\" id=\"node7\"><title>1981759059784</title>\n",
       "<polygon fill=\"none\" points=\"81,-166.5 81,-212.5 294,-212.5 294,-166.5 81,-166.5\" stroke=\"black\"/>\n",
       "<text font-family=\"Times New Roman,serif\" font-size=\"14.00\" text-anchor=\"middle\" x=\"118\" y=\"-185.8\">D2: Dense</text>\n",
       "<polyline fill=\"none\" points=\"155,-166.5 155,-212.5 \" stroke=\"black\"/>\n",
       "<text font-family=\"Times New Roman,serif\" font-size=\"14.00\" text-anchor=\"middle\" x=\"183\" y=\"-197.3\">input:</text>\n",
       "<polyline fill=\"none\" points=\"155,-189.5 211,-189.5 \" stroke=\"black\"/>\n",
       "<text font-family=\"Times New Roman,serif\" font-size=\"14.00\" text-anchor=\"middle\" x=\"183\" y=\"-174.3\">output:</text>\n",
       "<polyline fill=\"none\" points=\"211,-166.5 211,-212.5 \" stroke=\"black\"/>\n",
       "<text font-family=\"Times New Roman,serif\" font-size=\"14.00\" text-anchor=\"middle\" x=\"252.5\" y=\"-197.3\">(None, 128)</text>\n",
       "<polyline fill=\"none\" points=\"211,-189.5 294,-189.5 \" stroke=\"black\"/>\n",
       "<text font-family=\"Times New Roman,serif\" font-size=\"14.00\" text-anchor=\"middle\" x=\"252.5\" y=\"-174.3\">(None, 128)</text>\n",
       "</g>\n",
       "<!-- 1981759059272&#45;&gt;1981759059784 -->\n",
       "<g class=\"edge\" id=\"edge6\"><title>1981759059272-&gt;1981759059784</title>\n",
       "<path d=\"M187.5,-249.366C187.5,-241.152 187.5,-231.658 187.5,-222.725\" fill=\"none\" stroke=\"black\"/>\n",
       "<polygon fill=\"black\" points=\"191,-222.607 187.5,-212.607 184,-222.607 191,-222.607\" stroke=\"black\"/>\n",
       "</g>\n",
       "<!-- 1981759106568 -->\n",
       "<g class=\"node\" id=\"node8\"><title>1981759106568</title>\n",
       "<polygon fill=\"none\" points=\"81,-83.5 81,-129.5 294,-129.5 294,-83.5 81,-83.5\" stroke=\"black\"/>\n",
       "<text font-family=\"Times New Roman,serif\" font-size=\"14.00\" text-anchor=\"middle\" x=\"118\" y=\"-102.8\">D3: Dense</text>\n",
       "<polyline fill=\"none\" points=\"155,-83.5 155,-129.5 \" stroke=\"black\"/>\n",
       "<text font-family=\"Times New Roman,serif\" font-size=\"14.00\" text-anchor=\"middle\" x=\"183\" y=\"-114.3\">input:</text>\n",
       "<polyline fill=\"none\" points=\"155,-106.5 211,-106.5 \" stroke=\"black\"/>\n",
       "<text font-family=\"Times New Roman,serif\" font-size=\"14.00\" text-anchor=\"middle\" x=\"183\" y=\"-91.3\">output:</text>\n",
       "<polyline fill=\"none\" points=\"211,-83.5 211,-129.5 \" stroke=\"black\"/>\n",
       "<text font-family=\"Times New Roman,serif\" font-size=\"14.00\" text-anchor=\"middle\" x=\"252.5\" y=\"-114.3\">(None, 128)</text>\n",
       "<polyline fill=\"none\" points=\"211,-106.5 294,-106.5 \" stroke=\"black\"/>\n",
       "<text font-family=\"Times New Roman,serif\" font-size=\"14.00\" text-anchor=\"middle\" x=\"252.5\" y=\"-91.3\">(None, 64)</text>\n",
       "</g>\n",
       "<!-- 1981759059784&#45;&gt;1981759106568 -->\n",
       "<g class=\"edge\" id=\"edge7\"><title>1981759059784-&gt;1981759106568</title>\n",
       "<path d=\"M187.5,-166.366C187.5,-158.152 187.5,-148.658 187.5,-139.725\" fill=\"none\" stroke=\"black\"/>\n",
       "<polygon fill=\"black\" points=\"191,-139.607 187.5,-129.607 184,-139.607 191,-139.607\" stroke=\"black\"/>\n",
       "</g>\n",
       "<!-- 1981759059400 -->\n",
       "<g class=\"node\" id=\"node9\"><title>1981759059400</title>\n",
       "<polygon fill=\"none\" points=\"57,-0.5 57,-46.5 318,-46.5 318,-0.5 57,-0.5\" stroke=\"black\"/>\n",
       "<text font-family=\"Times New Roman,serif\" font-size=\"14.00\" text-anchor=\"middle\" x=\"121\" y=\"-19.8\">main_output: Dense</text>\n",
       "<polyline fill=\"none\" points=\"185,-0.5 185,-46.5 \" stroke=\"black\"/>\n",
       "<text font-family=\"Times New Roman,serif\" font-size=\"14.00\" text-anchor=\"middle\" x=\"213\" y=\"-31.3\">input:</text>\n",
       "<polyline fill=\"none\" points=\"185,-23.5 241,-23.5 \" stroke=\"black\"/>\n",
       "<text font-family=\"Times New Roman,serif\" font-size=\"14.00\" text-anchor=\"middle\" x=\"213\" y=\"-8.3\">output:</text>\n",
       "<polyline fill=\"none\" points=\"241,-0.5 241,-46.5 \" stroke=\"black\"/>\n",
       "<text font-family=\"Times New Roman,serif\" font-size=\"14.00\" text-anchor=\"middle\" x=\"279.5\" y=\"-31.3\">(None, 64)</text>\n",
       "<polyline fill=\"none\" points=\"241,-23.5 318,-23.5 \" stroke=\"black\"/>\n",
       "<text font-family=\"Times New Roman,serif\" font-size=\"14.00\" text-anchor=\"middle\" x=\"279.5\" y=\"-8.3\">(None, 1)</text>\n",
       "</g>\n",
       "<!-- 1981759106568&#45;&gt;1981759059400 -->\n",
       "<g class=\"edge\" id=\"edge8\"><title>1981759106568-&gt;1981759059400</title>\n",
       "<path d=\"M187.5,-83.3664C187.5,-75.1516 187.5,-65.6579 187.5,-56.7252\" fill=\"none\" stroke=\"black\"/>\n",
       "<polygon fill=\"black\" points=\"191,-56.6068 187.5,-46.6068 184,-56.6069 191,-56.6068\" stroke=\"black\"/>\n",
       "</g>\n",
       "</g>\n",
       "</svg>"
      ],
      "text/plain": [
       "<IPython.core.display.SVG object>"
      ]
     },
     "execution_count": 8,
     "metadata": {},
     "output_type": "execute_result"
    }
   ],
   "source": [
    "from IPython.display import SVG\n",
    "from keras.utils.vis_utils import model_to_dot\n",
    "\n",
    "SVG(model_to_dot(model, show_shapes=True).create(prog='dot', format='svg'))"
   ]
  }
 ],
 "metadata": {
  "kernelspec": {
   "display_name": "Python 3",
   "language": "python",
   "name": "python3"
  },
  "language_info": {
   "codemirror_mode": {
    "name": "ipython",
    "version": 3
   },
   "file_extension": ".py",
   "mimetype": "text/x-python",
   "name": "python",
   "nbconvert_exporter": "python",
   "pygments_lexer": "ipython3",
   "version": "3.7.4"
  }
 },
 "nbformat": 4,
 "nbformat_minor": 2
}
