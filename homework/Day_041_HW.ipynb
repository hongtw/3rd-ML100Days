{
 "cells": [
  {
   "cell_type": "markdown",
   "metadata": {},
   "source": [
    "## 作業\n",
    "\n",
    "\n",
    "\n",
    "閱讀以下兩篇文獻，了解決策樹原理，並試著回答後續的問題\n",
    "- [決策樹 (Decision Tree) - 中文](https://medium.com/@yehjames/%E8%B3%87%E6%96%99%E5%88%86%E6%9E%90-%E6%A9%9F%E5%99%A8%E5%AD%B8%E7%BF%92-%E7%AC%AC3-5%E8%AC%9B-%E6%B1%BA%E7%AD%96%E6%A8%B9-decision-tree-%E4%BB%A5%E5%8F%8A%E9%9A%A8%E6%A9%9F%E6%A3%AE%E6%9E%97-random-forest-%E4%BB%8B%E7%B4%B9-7079b0ddfbda)\n",
    "- [how decision tree works - 英文](http://dataaspirant.com/2017/01/30/how-decision-tree-algorithm-works/)"
   ]
  },
  {
   "cell_type": "markdown",
   "metadata": {},
   "source": [
    "## Q1: 在分類問題中，若沒有任何限制，決策樹有辦法在訓練時將 training loss 完全降成 0 嗎？\n",
    ">可以，當樹長得足夠深，有機會將 training loss 降成 0 ，但往往會因會樹長得太深而產生 overfitting 的問題\n",
    "\n",
    "> 參考解答:\n",
    ">\n",
    ">若資料是符合函數的假設，亦即沒有一對多的情形，這時候如果不對決策樹進行限制，決策樹是可以為每一個訓練樣本找到其對應的規則，就能夠把訓練 loss 降為 ０"
   ]
  },
  {
   "cell_type": "markdown",
   "metadata": {},
   "source": [
    "## Q2: 決策樹只能用在分類問題嗎？還是可以用來解決回歸問題？\n",
    "> 可以用在回歸問題：\n",
    "> \n",
    ">1. CART － Classification and Regression Trees 分類與回歸樹，是二叉樹，可以用於分類，也可以用於回歸問題，最先由 Breiman 等提出。 分類樹的輸出是樣本的類別， 回歸樹的輸出是一個實數。\n",
    ">2. GBDT / GBRT (Gradient Boosting Decision/Regression Tree) 梯度提升回歸樹\n",
    "\n",
    "> 參考解答\n",
    ">\n",
    ">決策樹同樣可以用來做回歸問題，這時評量資料相似程度則會用該群的平均數為每個值計算差距，可以想像標準差要是越小，該群中的樣本越相似。更多資訊可[參考](https://www.saedsayad.com/decision_tree_reg.htm) \n",
    "\n",
    "### Decision Tree - Regression\n",
    "\n",
    "決策樹以樹結構的形式構建回歸或分類模型。 它將數據集分解為越來越小的子集。\n",
    "最終結果是一棵具有決策節點(**decision nodes**)和葉節點(**leaf nodes**)的樹。\n",
    "\n",
    "決策節點（例如Outlook）具有兩個或多個分支（例如Sunny，Overcast和Rainy)，每個分支代表屬性。\n",
    "\n",
    "葉節點（例如，播放的小時數）表示對數字目標的決定。\n",
    "\n",
    "樹中最高的決策節點，對應於稱為根節點的最佳預測變量。 決策樹可以處理分類數據和數字數據"
   ]
  }
 ],
 "metadata": {
  "kernelspec": {
   "display_name": "Python 3",
   "language": "python",
   "name": "python3"
  },
  "language_info": {
   "codemirror_mode": {
    "name": "ipython",
    "version": 3
   },
   "file_extension": ".py",
   "mimetype": "text/x-python",
   "name": "python",
   "nbconvert_exporter": "python",
   "pygments_lexer": "ipython3",
   "version": "3.7.3"
  }
 },
 "nbformat": 4,
 "nbformat_minor": 2
}
