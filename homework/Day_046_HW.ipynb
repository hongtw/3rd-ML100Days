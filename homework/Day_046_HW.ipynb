{
 "cells": [
  {
   "cell_type": "markdown",
   "metadata": {},
   "source": [
    "## 梯度提升機\n",
    "### Q：隨機森林與梯度提升機的特徵重要性結果不相同？\n",
    "\n",
    "> A： 決策樹計算特徵重要性的概念是，觀察某⼀特徵被\n",
    "⽤來切分的次數⽽定。假設有兩個⼀模⼀樣的特徵，在\n",
    "隨機森林中每棵樹皆為獨立，因此兩個特徵皆有可能被\n",
    "使⽤，最終統計出來的次數會被均分。在梯度提升機\n",
    "中，每棵樹皆有關連，因此模型僅會使⽤其中⼀個特\n",
    "徵，另⼀個相同特徵的重要性則會消失\n",
    ">\n",
    ">[參考資料](https://www.quora.com/Is-multicollinearity-a-problem-with-gradient-boosted-trees)\n",
    "\n",
    "### 延伸閱讀\n",
    "完整調參數攻略-如何使⽤ Python 調整梯度提升機的超參數 (英⽂)\n",
    "[complete-guide-parameter-tuning-gradient-boosting-gbm](https://www.analyticsvidhya.com/blog/2016/02/complete-guide-parameter-tuning-gradient-boosting-gbm-python/)\n",
    "\n",
    "### 作業\n",
    "目前已經學過許多的模型，相信大家對整體流程應該比較掌握了，這次作業請改用**手寫辨識資料集**，步驟流程都是一樣的，請試著自己撰寫程式碼來完成所有步驟"
   ]
  },
  {
   "cell_type": "code",
   "execution_count": 1,
   "metadata": {},
   "outputs": [
    {
     "data": {
      "text/plain": [
       "0.9583333333333334"
      ]
     },
     "execution_count": 1,
     "metadata": {},
     "output_type": "execute_result"
    }
   ],
   "source": [
    "from sklearn import datasets, metrics\n",
    "from sklearn.ensemble import GradientBoostingClassifier\n",
    "from sklearn.model_selection import train_test_split\n",
    "\n",
    "digits = datasets.load_digits()\n",
    "x_train, x_test, y_train, y_test = train_test_split(\n",
    "    digits.data, digits.target, test_size=0.2, random_state=9487)\n",
    "\n",
    "gb = GradientBoostingClassifier(\n",
    "        loss=\"deviance\", #Loss 的選擇，若改為 exponential 則會變成Adaboosting 演算法\n",
    "                         #，概念相同但實作稍微不同\n",
    "    \n",
    "        learning_rate=0.1, #每棵樹對最終結果的影響，應與 n_estimators 成反比\n",
    "        n_estimators=100 #決策樹的數量\n",
    "    ).fit(x_train, y_train)\n",
    "preds = gb.predict(x_test)\n",
    "metrics.accuracy_score(y_test, preds)"
   ]
  },
  {
   "cell_type": "markdown",
   "metadata": {},
   "source": [
    "## 來看看究竟是哪些圖被誤判)"
   ]
  },
  {
   "cell_type": "code",
   "execution_count": 2,
   "metadata": {
    "scrolled": false
   },
   "outputs": [],
   "source": [
    "import matplotlib.pyplot as plt\n",
    "error_set_index = preds != y_test\n",
    "error_set = x_test[error_set_index]\n",
    "miss = preds[error_set_index]\n",
    "real = y_test[error_set_index]\n",
    "\n",
    "plt.figure(figsize=(10,10))\n",
    "for i, (e, m, r) in enumerate(zip(error_set, miss, real)):\n",
    "    if i+1 > 9:\n",
    "        break\n",
    "    plt.subplot(3, 3, i+1)\n",
    "    plt.title(f'Real:{r}, Miss:{m}')\n",
    "    plt.imshow(e.reshape(8,8), cmap='gray')"
   ]
  }
 ],
 "metadata": {
  "kernelspec": {
   "display_name": "Python 3",
   "language": "python",
   "name": "python3"
  },
  "language_info": {
   "codemirror_mode": {
    "name": "ipython",
    "version": 3
   },
   "file_extension": ".py",
   "mimetype": "text/x-python",
   "name": "python",
   "nbconvert_exporter": "python",
   "pygments_lexer": "ipython3",
   "version": "3.7.3"
  }
 },
 "nbformat": 4,
 "nbformat_minor": 2
}
