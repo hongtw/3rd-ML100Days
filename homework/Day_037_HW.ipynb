{
 "cells": [
  {
   "cell_type": "markdown",
   "metadata": {},
   "source": [
    "## [作業重點]\n",
    "了解線性回歸的模型發展歷程，並了解優勢與劣勢，以及其使用情境"
   ]
  },
  {
   "cell_type": "markdown",
   "metadata": {},
   "source": [
    "## 作業"
   ]
  },
  {
   "cell_type": "markdown",
   "metadata": {},
   "source": [
    "請閱讀以下相關文獻，並回答以下問題\n",
    "\n",
    "[Linear Regression 詳細介紹](https://brohrer.mcknote.com/zh-Hant/how_machine_learning_works/how_linear_regression_works.html)\n",
    "\n",
    "[Logistics Regression 詳細介紹](https://medium.com/@yehjames/%E8%B3%87%E6%96%99%E5%88%86%E6%9E%90-%E6%A9%9F%E5%99%A8%E5%AD%B8%E7%BF%92-%E7%AC%AC3-3%E8%AC%9B-%E7%B7%9A%E6%80%A7%E5%88%86%E9%A1%9E-%E9%82%8F%E8%BC%AF%E6%96%AF%E5%9B%9E%E6%AD%B8-logistic-regression-%E4%BB%8B%E7%B4%B9-a1a5f47017e5)\n"
   ]
  },
  {
   "attachments": {},
   "cell_type": "markdown",
   "metadata": {},
   "source": [
    "## 1. 線性回歸模型能夠準確預測非線性關係的資料集嗎?\n",
    "\n",
    "> 無法\n",
    "---\n",
    "\n",
    "## 2. 回歸模型是否對資料分布有基本假設?\n",
    "\n",
    "> ## 回歸模型假設\n",
    "1. 樣本是在母體之中隨機抽取出來的。\n",
    "2. 因變量Y在實直線上是連續的，\n",
    "3. 殘差項是獨立且相同分布的(iid)，也就是說，殘差是獨立隨機的，且服從高斯分布。\n",
    "\n",
    "## 羅吉斯特回歸的假設\n",
    "1. 數據服從白努力分布\n",
    "2. 假設結果為正的的機率是  \n",
    "\n",
    "<img src=\"data:image/png;base64,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\" alt=\"\"  align='left'/>\n",
    "\n"
   ]
  }
 ],
 "metadata": {
  "kernelspec": {
   "display_name": "Python 3",
   "language": "python",
   "name": "python3"
  },
  "language_info": {
   "codemirror_mode": {
    "name": "ipython",
    "version": 3
   },
   "file_extension": ".py",
   "mimetype": "text/x-python",
   "name": "python",
   "nbconvert_exporter": "python",
   "pygments_lexer": "ipython3",
   "version": "3.7.3"
  }
 },
 "nbformat": 4,
 "nbformat_minor": 2
}
