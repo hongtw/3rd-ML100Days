{
 "cells": [
  {
   "cell_type": "markdown",
   "metadata": {},
   "source": [
    "## 練習時間"
   ]
  },
  {
   "cell_type": "markdown",
   "metadata": {},
   "source": [
    "請觀看李宏毅教授以神奇寶貝進化 CP 值預測的範例，解說何謂機器學習與過擬合。並回答以下問題"
   ]
  },
  {
   "cell_type": "markdown",
   "metadata": {},
   "source": [
    "[youtube](https://www.youtube.com/watch?v=fegAeph9UaA)"
   ]
  },
  {
   "cell_type": "markdown",
   "metadata": {},
   "source": [
    "### 1. 模型的泛化能力 (generalization) 是指什麼？ \n",
    "\n",
    "#### Ans:\n",
    "#### 泛化能力是指機器學習模型對新鮮樣本的適應能力  學習的目的是學到隱含在數據背後的規律，對具有同一規律的學習集以外的數據，經過訓練的網絡也能給出合適的輸出，該能力稱為泛化能力。\n",
    "---------------------------------------------------\n",
    "\n",
    "### 2. 分類問題與回歸問題分別可用的目標函數有哪些？\n",
    "\n",
    "#### Regression metrics: \n",
    " - ***explained_variance_score(y_true, y_pred)***\tExplained variance regression score function\n",
    " - ***max_error(y_true, y_pred)***\tmax_error metric calculates the maximum residual error.\n",
    " - ***mean_absolute_error(y_true, y_pred)***\tMean absolute error regression loss\n",
    " - ***mean_squared_error(y_true, y_pred[, …])***\tMean squared error regression loss\n",
    " - ***mean_squared_log_error(y_true, y_pred)***\tMean squared logarithmic error regression loss\n",
    " - ***median_absolute_error(y_true, y_pred)***\tMedian absolute error regression loss\n",
    " - ***r2_score(y_true, y_pred[, …])***\tR^2 (coefficient of determination) regression score function.\n",
    "\n",
    "#### Classification metrics:\n",
    " - ***accuracy_score(y_true, y_pred[, …]***  Accuracy classification score.\n",
    " - ***auc(x, y[, reorder]***  Compute Area Under the Curve (AUC) using the trapezoidal rule\n",
    " - ***average_precision_score(y_true, y_score***  Compute average precision (AP) from prediction scores\n",
    " - ***balanced_accuracy_score(y_true, y_pred***  Compute the balanced accuracy\n",
    " - ***brier_score_loss(y_true, y_prob[, …]***  Compute the Brier score.\n",
    " - ***classification_report(y_true, y_pred***  Build a text report showing the main classification metrics\n",
    " - ***cohen_kappa_score(y1, y2[, labels, …]***  Cohen’s kappa: a statistic that measures inter-annotator agreement.\n",
    " - ***confusion_matrix(y_true, y_pred[, …]***  Compute confusion matrix to evaluate the accuracy of a classification\n",
    " - ***f1_score(y_true, y_pred[, labels, …]***  Compute the F1 score, also known as balanced F-score or F-measure\n",
    " - ***fbeta_score(y_true, y_pred, beta[, …]***  Compute the F-beta score\n",
    " - ***hamming_loss(y_true, y_pred[, …]***  Compute the average Hamming loss.\n",
    " - ***hinge_loss(y_true, pred_decision[, …]***  Average hinge loss (non-regularized)\n",
    " - ***jaccard_score(y_true, y_pred[, …]***  Jaccard similarity coefficient score\n",
    " - ***log_loss(y_true, y_pred[, eps, …]***  Log loss, aka logistic loss or cross-entropy loss.\n",
    " - ***matthews_corrcoef(y_true, y_pred[, …]***  Compute the Matthews correlation coefficient (MCC)\n",
    " - ***multilabel_confusion_matrix(y_true, …***  Compute a confusion matrix for each class or sample\n",
    " - ***precision_recall_curve(y_true, …***  Compute precision-recall pairs for different probability thresholds\n",
    " - ***precision_recall_fscore_support(…***  Compute precision, recall, F-measure and support for each class\n",
    " - ***precision_score(y_true, y_pred[, …]***  Compute the precision\n",
    " - ***recall_score(y_true, y_pred[, …]***  Compute the recall\n",
    " - ***roc_auc_score(y_true, y_score[, …]***  Compute Area Under the Receiver Operating Characteristic Curve (ROC AUC) from prediction scores.\n",
    " - ***roc_curve(y_true, y_score[, …]***  Compute Receiver operating characteristic (ROC)\n",
    " - ***zero_one_loss(y_true, y_pred[, …]***  Zero-one classification loss."
   ]
  },
  {
   "cell_type": "markdown",
   "metadata": {},
   "source": [
    "# PlayGround"
   ]
  },
  {
   "cell_type": "markdown",
   "metadata": {},
   "source": [
    "###  機器學習老中醫：利用學習曲線診斷模型的偏差和方差 ([link](http://bangqu.com/yjB839.html))"
   ]
  },
  {
   "cell_type": "code",
   "execution_count": 17,
   "metadata": {},
   "outputs": [],
   "source": [
    "import pandas as pd\n",
    "from zipfile import ZipFile\n",
    "from io import BytesIO\n",
    "import requests\n",
    "\n",
    "def get_CCPP_dataFrame():\n",
    "    content = requests.get('https://archive.ics.uci.edu/ml/machine-learning-databases/00294/CCPP.zip').content\n",
    "    zf = ZipFile(BytesIO(content))\n",
    "    return pd.read_excel(BytesIO(zf.read('CCPP/Folds5x2_pp.xlsx')))"
   ]
  },
  {
   "cell_type": "code",
   "execution_count": 19,
   "metadata": {},
   "outputs": [
    {
     "name": "stdout",
     "output_type": "stream",
     "text": [
      "<class 'pandas.core.frame.DataFrame'>\n",
      "RangeIndex: 9568 entries, 0 to 9567\n",
      "Data columns (total 5 columns):\n",
      "AT    9568 non-null float64\n",
      "V     9568 non-null float64\n",
      "AP    9568 non-null float64\n",
      "RH    9568 non-null float64\n",
      "PE    9568 non-null float64\n",
      "dtypes: float64(5)\n",
      "memory usage: 373.8 KB\n",
      "None\n"
     ]
    },
    {
     "data": {
      "text/html": [
       "<div>\n",
       "<style scoped>\n",
       "    .dataframe tbody tr th:only-of-type {\n",
       "        vertical-align: middle;\n",
       "    }\n",
       "\n",
       "    .dataframe tbody tr th {\n",
       "        vertical-align: top;\n",
       "    }\n",
       "\n",
       "    .dataframe thead th {\n",
       "        text-align: right;\n",
       "    }\n",
       "</style>\n",
       "<table border=\"1\" class=\"dataframe\">\n",
       "  <thead>\n",
       "    <tr style=\"text-align: right;\">\n",
       "      <th></th>\n",
       "      <th>AT</th>\n",
       "      <th>V</th>\n",
       "      <th>AP</th>\n",
       "      <th>RH</th>\n",
       "      <th>PE</th>\n",
       "    </tr>\n",
       "  </thead>\n",
       "  <tbody>\n",
       "    <tr>\n",
       "      <th>0</th>\n",
       "      <td>14.96</td>\n",
       "      <td>41.76</td>\n",
       "      <td>1024.07</td>\n",
       "      <td>73.17</td>\n",
       "      <td>463.26</td>\n",
       "    </tr>\n",
       "    <tr>\n",
       "      <th>1</th>\n",
       "      <td>25.18</td>\n",
       "      <td>62.96</td>\n",
       "      <td>1020.04</td>\n",
       "      <td>59.08</td>\n",
       "      <td>444.37</td>\n",
       "    </tr>\n",
       "    <tr>\n",
       "      <th>2</th>\n",
       "      <td>5.11</td>\n",
       "      <td>39.40</td>\n",
       "      <td>1012.16</td>\n",
       "      <td>92.14</td>\n",
       "      <td>488.56</td>\n",
       "    </tr>\n",
       "    <tr>\n",
       "      <th>3</th>\n",
       "      <td>20.86</td>\n",
       "      <td>57.32</td>\n",
       "      <td>1010.24</td>\n",
       "      <td>76.64</td>\n",
       "      <td>446.48</td>\n",
       "    </tr>\n",
       "    <tr>\n",
       "      <th>4</th>\n",
       "      <td>10.82</td>\n",
       "      <td>37.50</td>\n",
       "      <td>1009.23</td>\n",
       "      <td>96.62</td>\n",
       "      <td>473.90</td>\n",
       "    </tr>\n",
       "  </tbody>\n",
       "</table>\n",
       "</div>"
      ],
      "text/plain": [
       "      AT      V       AP     RH      PE\n",
       "0  14.96  41.76  1024.07  73.17  463.26\n",
       "1  25.18  62.96  1020.04  59.08  444.37\n",
       "2   5.11  39.40  1012.16  92.14  488.56\n",
       "3  20.86  57.32  1010.24  76.64  446.48\n",
       "4  10.82  37.50  1009.23  96.62  473.90"
      ]
     },
     "execution_count": 19,
     "metadata": {},
     "output_type": "execute_result"
    }
   ],
   "source": [
    "electricity  = get_CCPP_dataFrame()\n",
    "print(electricity.info())\n",
    "electricity.head()"
   ]
  },
  {
   "cell_type": "code",
   "execution_count": 21,
   "metadata": {
    "scrolled": true
   },
   "outputs": [
    {
     "name": "stdout",
     "output_type": "stream",
     "text": [
      "Training Scores:\n",
      " [[ -0.          -0.          -0.          -0.          -0.        ]\n",
      " [-19.71230701 -18.31492642 -18.31492642 -18.31492642 -18.31492642]\n",
      " [-18.14420459 -19.63885072 -19.63885072 -19.63885072 -19.63885072]\n",
      " [-21.53603444 -20.18568787 -19.98317419 -19.98317419 -19.98317419]\n",
      " [-20.47708899 -19.93364211 -20.56091569 -20.4150839  -20.4150839 ]\n",
      " [-20.98565335 -20.63006094 -21.04384703 -20.63526811 -20.52955609]]\n",
      "----------------------------------------------------------------------\n",
      "Validation Scores Scores:\n",
      " [[-619.30514723 -379.81090366 -374.4107861  -370.03037109 -373.30597982]\n",
      " [ -21.80224219  -23.01103419  -20.81350389  -22.88459236  -23.44955492]\n",
      " [ -19.96005238  -21.2771561   -19.75136596  -21.4325615   -21.89067652]\n",
      " [ -19.92863783  -21.35440062  -19.62974239  -21.38631648  -21.811031  ]\n",
      " [ -19.88806264  -21.3183303   -19.68228562  -21.35019525  -21.75949097]\n",
      " [ -19.9046791   -21.33448781  -19.67831137  -21.31935146  -21.73778949]]\n"
     ]
    }
   ],
   "source": [
    "from sklearn.linear_model import LinearRegression\n",
    "from sklearn.model_selection import learning_curve\n",
    "\n",
    "train_sizes = [1, 100, 500, 2000, 5000, 7654]\n",
    "\n",
    "features = ['AT', 'V', 'AP', 'RH']\n",
    "target = 'PE'\n",
    "\n",
    "train_sizes, train_scores, validation_scores = learning_curve(\n",
    "    estimator=LinearRegression(), \n",
    "    X=electricity[features],\n",
    "    y=electricity[target], \n",
    "    train_sizes=train_sizes, \n",
    "    cv=5,\n",
    "    scoring='neg_mean_squared_error')\n",
    "\n",
    "print('Training Scores:\\n',  train_scores)\n",
    "print('-'*70)\n",
    "print('Validation Scores Scores:\\n',  validation_scores)\n",
    "    "
   ]
  },
  {
   "cell_type": "code",
   "execution_count": 29,
   "metadata": {},
   "outputs": [
    {
     "name": "stdout",
     "output_type": "stream",
     "text": [
      "Mean training scores\n",
      "\n",
      "1       -0.000000\n",
      "100     18.594403\n",
      "500     19.339921\n",
      "2000    20.334249\n",
      "5000    20.360363\n",
      "7654    20.764877\n",
      "dtype: float64\n",
      "\n",
      "---\n",
      "Mean validation scores\n",
      "\n",
      "1       423.372638\n",
      "100      22.392186\n",
      "500      20.862362\n",
      "2000     20.822026\n",
      "5000     20.799673\n",
      "7654     20.794924\n",
      "dtype: float64\n"
     ]
    }
   ],
   "source": [
    "train_scores_mean = -train_scores.mean(axis = 1)\n",
    "validation_scores_mean = -validation_scores.mean(axis = 1)\n",
    "print(f'Mean training scores\\n\\n{pd.Series(train_scores_mean, index = train_sizes)}')\n",
    "print(f'\\n---\\nMean validation scores\\n\\n{pd.Series(validation_scores_mean, index = train_sizes)}')"
   ]
  },
  {
   "cell_type": "code",
   "execution_count": 33,
   "metadata": {
    "scrolled": true
   },
   "outputs": [
    {
     "data": {
      "text/plain": [
       "(0, 40)"
      ]
     },
     "execution_count": 33,
     "metadata": {},
     "output_type": "execute_result"
    },
    {
     "data": {
      "image/png": "[encoded data removed]",
      "text/plain": [
       "<Figure size 576x396 with 1 Axes>"
      ]
     },
     "metadata": {},
     "output_type": "display_data"
    }
   ],
   "source": [
    "import matplotlib.pyplot as plt\n",
    "%matplotlib inline\n",
    "plt.style.use('seaborn')\n",
    "\n",
    "plt.plot(train_sizes, train_scores_mean, label = 'Training error')\n",
    "plt.plot(train_sizes, validation_scores_mean, label = 'Validation error')\n",
    "plt.ylabel('MSE', fontsize = 14)\n",
    "plt.xlabel('Training set size', fontsize = 14)\n",
    "plt.title('Learning curves for a linear regression model', fontsize = 18, y = 1.03)\n",
    "plt.legend(fontsize=16)\n",
    "plt.ylim(0,40)"
   ]
  },
  {
   "cell_type": "markdown",
   "metadata": {},
   "source": [
    "從 500 個數據點開始，驗證集的 MSE 能夠保持大致不變。這給我們一個重要信息：增加更多的訓練數據點也不會帶來更好的模型。所以與其浪費時間（金錢）來收集數據，我們更需要的是做點其他事情，例如嘗試一下能夠構建更加複雜模型的算法。\n",
    "\n",
    "![Alt text](http://i1.bangqu.com/j/news/20180123/89edbff69a834fc6a09357730be3d37b.png)\n",
    "\n",
    "\n",
    "\n",
    "爲了找到這個答案，我們需要注意一下訓練誤差。如果訓練誤差特別小，這就說明估計模型能夠很好地擬合訓練數據，這就是說模型在對應的數據集上有較小的 bias。\n",
    "\n",
    "![Alt text](http://i1.bangqu.com/j/news/20180123/bfe60571bf784dd7a43c4f44c49e3b28.png)\n",
    "\n",
    "\n",
    "------------------\n",
    "#### 現在讓我們診斷一下最終的 variance 問題。對 variance 的估計可以通過以下兩種方式完成：\n",
    "\n",
    "通過檢查驗證學習曲線和訓練學習曲線之間的差距；\n",
    "通過檢查訓練誤差：檢查誤差的值隨着訓練樣本數增加的變化。\n",
    "![Alt text](http://i1.bangqu.com/j/news/20180123/1ba88a6278914269821529f9ec94b5f7.png)"
   ]
  }
 ],
 "metadata": {
  "kernelspec": {
   "display_name": "Python 3",
   "language": "python",
   "name": "python3"
  },
  "language_info": {
   "codemirror_mode": {
    "name": "ipython",
    "version": 3
   },
   "file_extension": ".py",
   "mimetype": "text/x-python",
   "name": "python",
   "nbconvert_exporter": "python",
   "pygments_lexer": "ipython3",
   "version": "3.7.3"
  }
 },
 "nbformat": 4,
 "nbformat_minor": 2
}
