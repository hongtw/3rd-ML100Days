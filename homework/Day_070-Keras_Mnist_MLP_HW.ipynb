{
 "cells": [
  {
   "cell_type": "markdown",
   "metadata": {},
   "source": [
    "# 課程目標:\n",
    "    \n",
    "    了解MLP 在神經網路上的應用"
   ]
  },
  {
   "cell_type": "markdown",
   "metadata": {},
   "source": [
    "# 範例重點:\n",
    "    以Keras 自帶的 手寫辨識的數據集來說明 MLP 建構的網路模型"
   ]
  },
  {
   "cell_type": "markdown",
   "metadata": {
    "colab_type": "text",
    "id": "zfI5zCjRPlnc"
   },
   "source": [
    "# 資料預處理"
   ]
  },
  {
   "cell_type": "code",
   "execution_count": 1,
   "metadata": {},
   "outputs": [],
   "source": [
    "import tensorflow as tf\n",
    "\n",
    "# 屏蔽 tensorflow 的 deprecated warning\n",
    "tf.compat.v1.logging.set_verbosity(tf.compat.v1.logging.ERROR)"
   ]
  },
  {
   "cell_type": "code",
   "execution_count": 2,
   "metadata": {
    "colab": {
     "autoexec": {
      "startup": false,
      "wait_interval": 0
     },
     "base_uri": "https://localhost:8080/",
     "height": 34
    },
    "colab_type": "code",
    "executionInfo": {
     "elapsed": 20601,
     "status": "ok",
     "timestamp": 1533441753568,
     "user": {
      "displayName": "Edward Cheng",
      "photoUrl": "//lh4.googleusercontent.com/-ANnwjGu3IBk/AAAAAAAAAAI/AAAAAAAAAAc/qXXg6Jek9xw/s50-c-k-no/photo.jpg",
      "userId": "112554017642991017343"
     },
     "user_tz": -480
    },
    "id": "GyIQ7tpGPlnf",
    "outputId": "f3642b99-3ef2-43fe-ee42-e17b1ef50cbb"
   },
   "outputs": [
    {
     "name": "stderr",
     "output_type": "stream",
     "text": [
      "Using TensorFlow backend.\n"
     ]
    }
   ],
   "source": [
    "from keras.utils import np_utils\n",
    "import numpy as np\n",
    "np.random.seed(10)"
   ]
  },
  {
   "cell_type": "code",
   "execution_count": 3,
   "metadata": {
    "colab": {
     "autoexec": {
      "startup": false,
      "wait_interval": 0
     },
     "base_uri": "https://localhost:8080/",
     "height": 51
    },
    "colab_type": "code",
    "executionInfo": {
     "elapsed": 5937,
     "status": "ok",
     "timestamp": 1533441759521,
     "user": {
      "displayName": "Edward Cheng",
      "photoUrl": "//lh4.googleusercontent.com/-ANnwjGu3IBk/AAAAAAAAAAI/AAAAAAAAAAc/qXXg6Jek9xw/s50-c-k-no/photo.jpg",
      "userId": "112554017642991017343"
     },
     "user_tz": -480
    },
    "id": "OLzoKlJRPlno",
    "outputId": "c75f10a4-951d-4b3b-ad5f-c8fc4dff0e96"
   },
   "outputs": [],
   "source": [
    "#載入手寫辨識的資料集\n",
    "from keras.datasets import mnist\n",
    "(x_train_image,y_train_label),\\\n",
    "(x_test_image,y_test_label)= mnist.load_data()"
   ]
  },
  {
   "cell_type": "code",
   "execution_count": 4,
   "metadata": {
    "colab": {
     "autoexec": {
      "startup": false,
      "wait_interval": 0
     }
    },
    "colab_type": "code",
    "id": "QEuQwa4nPlnu"
   },
   "outputs": [],
   "source": [
    "#指定測試集與訓練資料集\n",
    "x_Train =x_train_image.reshape(60000, 784).astype('float32')\n",
    "x_Test = x_test_image.reshape(10000, 784).astype('float32')"
   ]
  },
  {
   "cell_type": "code",
   "execution_count": 5,
   "metadata": {
    "colab": {
     "autoexec": {
      "startup": false,
      "wait_interval": 0
     }
    },
    "colab_type": "code",
    "id": "YisRq-SxPln0"
   },
   "outputs": [],
   "source": [
    "# normalize inputs from 0-255 to 0-1\n",
    "x_Train_normalize = x_Train / 255\n",
    "x_Test_normalize = x_Test / 255"
   ]
  },
  {
   "cell_type": "code",
   "execution_count": 6,
   "metadata": {
    "colab": {
     "autoexec": {
      "startup": false,
      "wait_interval": 0
     }
    },
    "colab_type": "code",
    "id": "AHtfmzpfPln4"
   },
   "outputs": [],
   "source": [
    "#把LABEL轉成NUMERICAL Categorical \n",
    "y_Train_OneHot = np_utils.to_categorical(y_train_label)\n",
    "y_Test_OneHot = np_utils.to_categorical(y_test_label)"
   ]
  },
  {
   "cell_type": "markdown",
   "metadata": {
    "colab_type": "text",
    "id": "0s8PjvqJPln7"
   },
   "source": [
    "# 建立模型"
   ]
  },
  {
   "cell_type": "code",
   "execution_count": 7,
   "metadata": {
    "colab": {
     "autoexec": {
      "startup": false,
      "wait_interval": 0
     }
    },
    "colab_type": "code",
    "id": "N10v1eX2Pln8"
   },
   "outputs": [],
   "source": [
    "from keras.models import Sequential\n",
    "from keras.layers import Dense"
   ]
  },
  {
   "cell_type": "code",
   "execution_count": 8,
   "metadata": {
    "colab": {
     "autoexec": {
      "startup": false,
      "wait_interval": 0
     }
    },
    "colab_type": "code",
    "id": "jmaxrsXwPln-"
   },
   "outputs": [],
   "source": [
    "#宣告採用序列模型\n",
    "model = Sequential()"
   ]
  },
  {
   "cell_type": "code",
   "execution_count": 9,
   "metadata": {
    "colab": {
     "autoexec": {
      "startup": false,
      "wait_interval": 0
     }
    },
    "colab_type": "code",
    "id": "aZzGH92NPloB"
   },
   "outputs": [],
   "source": [
    "#建構輸入層\n",
    "model.add(Dense(units=256, \n",
    "                input_dim=784, \n",
    "                kernel_initializer='normal', \n",
    "                activation='relu'))"
   ]
  },
  {
   "cell_type": "code",
   "execution_count": 10,
   "metadata": {
    "colab": {
     "autoexec": {
      "startup": false,
      "wait_interval": 0
     }
    },
    "colab_type": "code",
    "id": "NNSYvuNhPloD"
   },
   "outputs": [],
   "source": [
    "#建構輸出層\n",
    "model.add(Dense(units=10, \n",
    "                kernel_initializer='normal', \n",
    "                activation='softmax'))"
   ]
  },
  {
   "cell_type": "code",
   "execution_count": 11,
   "metadata": {
    "colab": {
     "autoexec": {
      "startup": false,
      "wait_interval": 0
     },
     "base_uri": "https://localhost:8080/",
     "height": 221
    },
    "colab_type": "code",
    "executionInfo": {
     "elapsed": 1500,
     "status": "ok",
     "timestamp": 1533441769991,
     "user": {
      "displayName": "Edward Cheng",
      "photoUrl": "//lh4.googleusercontent.com/-ANnwjGu3IBk/AAAAAAAAAAI/AAAAAAAAAAc/qXXg6Jek9xw/s50-c-k-no/photo.jpg",
      "userId": "112554017642991017343"
     },
     "user_tz": -480
    },
    "id": "Li6CzpyNPloF",
    "outputId": "7a9e22a4-93dc-49b0-8c8b-690e330aee88"
   },
   "outputs": [
    {
     "name": "stdout",
     "output_type": "stream",
     "text": [
      "_________________________________________________________________\n",
      "Layer (type)                 Output Shape              Param #   \n",
      "=================================================================\n",
      "dense_1 (Dense)              (None, 256)               200960    \n",
      "_________________________________________________________________\n",
      "dense_2 (Dense)              (None, 10)                2570      \n",
      "=================================================================\n",
      "Total params: 203,530\n",
      "Trainable params: 203,530\n",
      "Non-trainable params: 0\n",
      "_________________________________________________________________\n",
      "None\n"
     ]
    }
   ],
   "source": [
    "print(model.summary())"
   ]
  },
  {
   "cell_type": "markdown",
   "metadata": {
    "colab_type": "text",
    "id": "jdoAZgv1PloK"
   },
   "source": [
    "# 訓練模型"
   ]
  },
  {
   "cell_type": "code",
   "execution_count": 12,
   "metadata": {
    "colab": {
     "autoexec": {
      "startup": false,
      "wait_interval": 0
     }
    },
    "colab_type": "code",
    "id": "5d5wrEL3PloK"
   },
   "outputs": [],
   "source": [
    "model.compile(loss='categorical_crossentropy', \n",
    "              optimizer='adam', metrics=['accuracy'])"
   ]
  },
  {
   "cell_type": "code",
   "execution_count": 13,
   "metadata": {
    "colab": {
     "autoexec": {
      "startup": false,
      "wait_interval": 0
     },
     "base_uri": "https://localhost:8080/",
     "height": 374
    },
    "colab_type": "code",
    "executionInfo": {
     "elapsed": 15426,
     "status": "ok",
     "timestamp": 1533441786624,
     "user": {
      "displayName": "Edward Cheng",
      "photoUrl": "//lh4.googleusercontent.com/-ANnwjGu3IBk/AAAAAAAAAAI/AAAAAAAAAAc/qXXg6Jek9xw/s50-c-k-no/photo.jpg",
      "userId": "112554017642991017343"
     },
     "user_tz": -480
    },
    "id": "VlpjoqQ9PloM",
    "outputId": "b91454c9-af9a-40fe-9736-b4a1c97462cd"
   },
   "outputs": [
    {
     "name": "stdout",
     "output_type": "stream",
     "text": [
      "Train on 48000 samples, validate on 12000 samples\n",
      "Epoch 1/20\n",
      "48000/48000 [==============================] - 11s 220us/step - loss: 0.2700 - acc: 0.9223 - val_loss: 0.1332 - val_acc: 0.9611\n",
      "Epoch 2/20\n",
      "48000/48000 [==============================] - 9s 182us/step - loss: 0.1080 - acc: 0.9681 - val_loss: 0.1066 - val_acc: 0.9679\n",
      "Epoch 3/20\n",
      "48000/48000 [==============================] - 7s 156us/step - loss: 0.0715 - acc: 0.9778 - val_loss: 0.0933 - val_acc: 0.9728\n",
      "Epoch 4/20\n",
      "48000/48000 [==============================] - 8s 156us/step - loss: 0.0514 - acc: 0.9840 - val_loss: 0.0834 - val_acc: 0.9758\n",
      "Epoch 5/20\n",
      "48000/48000 [==============================] - 7s 156us/step - loss: 0.0371 - acc: 0.9885 - val_loss: 0.0798 - val_acc: 0.9760 0.98 - ETA: 3s - lo\n",
      "Epoch 6/20\n",
      "48000/48000 [==============================] - 8s 167us/step - loss: 0.0271 - acc: 0.9915 - val_loss: 0.0761 - val_acc: 0.9784\n",
      "Epoch 7/20\n",
      "48000/48000 [==============================] - 8s 170us/step - loss: 0.0202 - acc: 0.9938 - val_loss: 0.0876 - val_acc: 0.9777\n",
      "Epoch 8/20\n",
      "48000/48000 [==============================] - 9s 192us/step - loss: 0.0169 - acc: 0.9947 - val_loss: 0.0882 - val_acc: 0.9782\n",
      "Epoch 9/20\n",
      "48000/48000 [==============================] - 8s 166us/step - loss: 0.0134 - acc: 0.9960 - val_loss: 0.0968 - val_acc: 0.9745\n",
      "Epoch 10/20\n",
      "48000/48000 [==============================] - 8s 170us/step - loss: 0.0102 - acc: 0.9969 - val_loss: 0.0956 - val_acc: 0.9771: 0.0102 - acc: \n",
      "Epoch 11/20\n",
      "48000/48000 [==============================] - 9s 179us/step - loss: 0.0091 - acc: 0.9974 - val_loss: 0.0905 - val_acc: 0.9789\n",
      "Epoch 12/20\n",
      "48000/48000 [==============================] - 8s 162us/step - loss: 0.0088 - acc: 0.9973 - val_loss: 0.1005 - val_acc: 0.9779\n",
      "Epoch 13/20\n",
      "48000/48000 [==============================] - 8s 170us/step - loss: 0.0067 - acc: 0.9980 - val_loss: 0.0986 - val_acc: 0.9793\n",
      "Epoch 14/20\n",
      "48000/48000 [==============================] - 9s 189us/step - loss: 0.0075 - acc: 0.9976 - val_loss: 0.1009 - val_acc: 0.9777\n",
      "Epoch 15/20\n",
      "48000/48000 [==============================] - 9s 178us/step - loss: 0.0076 - acc: 0.9976 - val_loss: 0.1132 - val_acc: 0.9769\n",
      "Epoch 16/20\n",
      "48000/48000 [==============================] - 10s 200us/step - loss: 0.0036 - acc: 0.9990 - val_loss: 0.1023 - val_acc: 0.9783\n",
      "Epoch 17/20\n",
      "48000/48000 [==============================] - 11s 230us/step - loss: 0.0058 - acc: 0.9978 - val_loss: 0.1316 - val_acc: 0.9754\n",
      "Epoch 18/20\n",
      "48000/48000 [==============================] - 11s 224us/step - loss: 0.0052 - acc: 0.9982 - val_loss: 0.1146 - val_acc: 0.9773\n",
      "Epoch 19/20\n",
      "48000/48000 [==============================] - 9s 182us/step - loss: 0.0063 - acc: 0.9979 - val_loss: 0.1116 - val_acc: 0.9790\n",
      "Epoch 20/20\n",
      "48000/48000 [==============================] - 9s 183us/step - loss: 0.0038 - acc: 0.9988 - val_loss: 0.1099 - val_acc: 0.9800\n"
     ]
    }
   ],
   "source": [
    "train_history =model.fit(x=x_Train_normalize,\n",
    "                         y=y_Train_OneHot,validation_split=0.2, \n",
    "                         epochs=20, batch_size=32,verbose=1)"
   ]
  },
  {
   "cell_type": "markdown",
   "metadata": {
    "colab_type": "text",
    "id": "pV1Ftdb0PloP"
   },
   "source": [
    "# 以圖形顯示訓練過程"
   ]
  },
  {
   "cell_type": "code",
   "execution_count": 14,
   "metadata": {
    "colab": {
     "autoexec": {
      "startup": false,
      "wait_interval": 0
     }
    },
    "colab_type": "code",
    "id": "EEmuoa1dPloQ"
   },
   "outputs": [],
   "source": [
    "import matplotlib.pyplot as plt\n",
    "def show_train_history(train_history,train,validation):\n",
    "    plt.figure(figsize=(10, 4))\n",
    "    plt.plot(train_history.history[train])\n",
    "    plt.plot(train_history.history[validation])\n",
    "    plt.title('Train History')\n",
    "    plt.ylabel(train)\n",
    "    plt.xlabel('Epoch')\n",
    "    plt.legend(['train', 'validation'], loc='upper left')\n",
    "    plt.show()"
   ]
  },
  {
   "cell_type": "code",
   "execution_count": 15,
   "metadata": {
    "colab": {
     "autoexec": {
      "startup": false,
      "wait_interval": 0
     },
     "base_uri": "https://localhost:8080/",
     "height": 376
    },
    "colab_type": "code",
    "executionInfo": {
     "elapsed": 1451,
     "status": "ok",
     "timestamp": 1533441789030,
     "user": {
      "displayName": "Edward Cheng",
      "photoUrl": "//lh4.googleusercontent.com/-ANnwjGu3IBk/AAAAAAAAAAI/AAAAAAAAAAc/qXXg6Jek9xw/s50-c-k-no/photo.jpg",
      "userId": "112554017642991017343"
     },
     "user_tz": -480
    },
    "id": "fvE2WsejPloT",
    "outputId": "bb56e170-8850-409e-bbb2-eb6b5b89e528"
   },
   "outputs": [
    {
     "data": {
      "image/png": "[encoded data removed]",
      "text/plain": [
       "<Figure size 720x288 with 1 Axes>"
      ]
     },
     "metadata": {
      "needs_background": "light"
     },
     "output_type": "display_data"
    },
    {
     "data": {
      "image/png": "[encoded data removed]",
      "text/plain": [
       "<Figure size 720x288 with 1 Axes>"
      ]
     },
     "metadata": {
      "needs_background": "light"
     },
     "output_type": "display_data"
    }
   ],
   "source": [
    "show_train_history(train_history,'acc', 'val_acc')\n",
    "show_train_history(train_history,'loss', 'val_loss')"
   ]
  },
  {
   "cell_type": "markdown",
   "metadata": {
    "colab_type": "text",
    "id": "h1z2y0g-PloZ"
   },
   "source": [
    "# 評估模型準確率"
   ]
  },
  {
   "cell_type": "code",
   "execution_count": 16,
   "metadata": {
    "colab": {
     "autoexec": {
      "startup": false,
      "wait_interval": 0
     },
     "base_uri": "https://localhost:8080/",
     "height": 68
    },
    "colab_type": "code",
    "executionInfo": {
     "elapsed": 1425,
     "status": "ok",
     "timestamp": 1533441792584,
     "user": {
      "displayName": "Edward Cheng",
      "photoUrl": "//lh4.googleusercontent.com/-ANnwjGu3IBk/AAAAAAAAAAI/AAAAAAAAAAc/qXXg6Jek9xw/s50-c-k-no/photo.jpg",
      "userId": "112554017642991017343"
     },
     "user_tz": -480
    },
    "id": "vMawurJqPloZ",
    "outputId": "31465f8d-cfad-49b8-dc9e-90d643e6b4a8"
   },
   "outputs": [
    {
     "name": "stdout",
     "output_type": "stream",
     "text": [
      "10000/10000 [==============================] - 1s 56us/step\n",
      "accuracy= 0.9819\n"
     ]
    }
   ],
   "source": [
    "loss, acc = model.evaluate(x_Test_normalize, y_Test_OneHot)\n",
    "print('accuracy=', acc)"
   ]
  },
  {
   "cell_type": "markdown",
   "metadata": {},
   "source": [
    "---\n",
    "# 作業目標:\n",
    "利用手寫辨識資料說明MLP 中, 神經網路層的多寡跟預測結果的差異\n",
    "# 作業重點:\n",
    "[練習]請嘗試新增一層或兩層看看最後預測結果是否有差異\n",
    "model.add(Dense(units=256, input_dim=784, kernel_initializer='normal', activation='relu'))\n"
   ]
  },
  {
   "cell_type": "code",
   "execution_count": 17,
   "metadata": {},
   "outputs": [
    {
     "name": "stdout",
     "output_type": "stream",
     "text": [
      "Train on 48000 samples, validate on 12000 samples\n",
      "Epoch 1/20\n",
      "48000/48000 [==============================] - 11s 223us/step - loss: 0.2102 - acc: 0.9376 - val_loss: 0.1062 - val_acc: 0.9677\n",
      "Epoch 2/20\n",
      "48000/48000 [==============================] - 10s 217us/step - loss: 0.0854 - acc: 0.9739 - val_loss: 0.1003 - val_acc: 0.9704\n",
      "Epoch 3/20\n",
      "48000/48000 [==============================] - 11s 238us/step - loss: 0.0568 - acc: 0.9819 - val_loss: 0.0988 - val_acc: 0.9731\n",
      "Epoch 4/20\n",
      "48000/48000 [==============================] - 10s 218us/step - loss: 0.0434 - acc: 0.9856 - val_loss: 0.0937 - val_acc: 0.9739\n",
      "Epoch 5/20\n",
      "48000/48000 [==============================] - 12s 250us/step - loss: 0.0323 - acc: 0.9889 - val_loss: 0.1078 - val_acc: 0.9724\n",
      "Epoch 6/20\n",
      "48000/48000 [==============================] - 10s 210us/step - loss: 0.0272 - acc: 0.9913 - val_loss: 0.1134 - val_acc: 0.9728\n",
      "Epoch 7/20\n",
      "48000/48000 [==============================] - 10s 209us/step - loss: 0.0242 - acc: 0.9921 - val_loss: 0.0990 - val_acc: 0.9772 \n",
      "Epoch 8/20\n",
      "48000/48000 [==============================] - 10s 211us/step - loss: 0.0215 - acc: 0.9934 - val_loss: 0.1316 - val_acc: 0.9721\n",
      "Epoch 9/20\n",
      "48000/48000 [==============================] - 10s 206us/step - loss: 0.0171 - acc: 0.9942 - val_loss: 0.1244 - val_acc: 0.9753\n",
      "Epoch 10/20\n",
      "48000/48000 [==============================] - 11s 227us/step - loss: 0.0201 - acc: 0.9938 - val_loss: 0.1240 - val_acc: 0.9756\n",
      "Epoch 11/20\n",
      "48000/48000 [==============================] - 11s 226us/step - loss: 0.0140 - acc: 0.9952 - val_loss: 0.1234 - val_acc: 0.9767\n",
      "Epoch 12/20\n",
      "48000/48000 [==============================] - 12s 240us/step - loss: 0.0130 - acc: 0.9958 - val_loss: 0.1323 - val_acc: 0.9767\n",
      "Epoch 13/20\n",
      "48000/48000 [==============================] - 10s 213us/step - loss: 0.0157 - acc: 0.9951 - val_loss: 0.1343 - val_acc: 0.9757\n",
      "Epoch 14/20\n",
      "48000/48000 [==============================] - 10s 205us/step - loss: 0.0120 - acc: 0.9964 - val_loss: 0.1349 - val_acc: 0.9768\n",
      "Epoch 15/20\n",
      "48000/48000 [==============================] - 10s 201us/step - loss: 0.0162 - acc: 0.9952 - val_loss: 0.1306 - val_acc: 0.9771\n",
      "Epoch 16/20\n",
      "48000/48000 [==============================] - 10s 212us/step - loss: 0.0109 - acc: 0.9969 - val_loss: 0.1373 - val_acc: 0.9773\n",
      "Epoch 17/20\n",
      "48000/48000 [==============================] - 10s 217us/step - loss: 0.0143 - acc: 0.9960 - val_loss: 0.1305 - val_acc: 0.9790\n",
      "Epoch 18/20\n",
      "48000/48000 [==============================] - 12s 260us/step - loss: 0.0089 - acc: 0.9975 - val_loss: 0.2020 - val_acc: 0.9717\n",
      "Epoch 19/20\n",
      "48000/48000 [==============================] - 12s 251us/step - loss: 0.0168 - acc: 0.9954 - val_loss: 0.1543 - val_acc: 0.9756\n",
      "Epoch 20/20\n",
      "48000/48000 [==============================] - 11s 222us/step - loss: 0.0077 - acc: 0.9977 - val_loss: 0.1219 - val_acc: 0.9817\n"
     ]
    }
   ],
   "source": [
    "model = Sequential()\n",
    "model.add(Dense(units=512, \n",
    "                input_dim=784, \n",
    "                kernel_initializer='normal', \n",
    "                activation='relu'))\n",
    "model.add(Dense(units=256, \n",
    "                kernel_initializer='normal', \n",
    "                activation='relu'))\n",
    "model.add(Dense(units=10, \n",
    "                kernel_initializer='normal', \n",
    "                activation='softmax'))\n",
    "model.compile(loss='categorical_crossentropy', \n",
    "              optimizer='adam', metrics=['accuracy'])\n",
    "train_history = model.fit(x=x_Train_normalize,\n",
    "                         y=y_Train_OneHot,validation_split=0.2, \n",
    "                         epochs=20, batch_size=32,verbose=1)"
   ]
  },
  {
   "cell_type": "code",
   "execution_count": 18,
   "metadata": {},
   "outputs": [
    {
     "name": "stdout",
     "output_type": "stream",
     "text": [
      "10000/10000 [==============================] - 1s 54us/step\n",
      "accuracy= 0.9827\n"
     ]
    },
    {
     "data": {
      "image/png": "[encoded data removed]",
      "text/plain": [
       "<Figure size 720x288 with 1 Axes>"
      ]
     },
     "metadata": {
      "needs_background": "light"
     },
     "output_type": "display_data"
    },
    {
     "data": {
      "image/png": "[encoded data removed]",
      "text/plain": [
       "<Figure size 720x288 with 1 Axes>"
      ]
     },
     "metadata": {
      "needs_background": "light"
     },
     "output_type": "display_data"
    }
   ],
   "source": [
    "loss, acc = model.evaluate(x_Test_normalize, y_Test_OneHot)\n",
    "print('accuracy=', acc)\n",
    "show_train_history(train_history,'acc', 'val_acc')\n",
    "show_train_history(train_history,'loss', 'val_loss')\n"
   ]
  }
 ],
 "metadata": {
  "accelerator": "GPU",
  "colab": {
   "collapsed_sections": [],
   "default_view": {},
   "name": "Keras_Mnist_MLP_h256.ipynb",
   "provenance": [],
   "version": "0.3.2",
   "views": {}
  },
  "kernelspec": {
   "display_name": "Python 3",
   "language": "python",
   "name": "python3"
  },
  "language_info": {
   "codemirror_mode": {
    "name": "ipython",
    "version": 3
   },
   "file_extension": ".py",
   "mimetype": "text/x-python",
   "name": "python",
   "nbconvert_exporter": "python",
   "pygments_lexer": "ipython3",
   "version": "3.7.4"
  }
 },
 "nbformat": 4,
 "nbformat_minor": 1
}
