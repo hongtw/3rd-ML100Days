{
 "cells": [
  {
   "cell_type": "markdown",
   "metadata": {},
   "source": [
    "## 練習時間\n",
    "假設我們資料中類別的數量並不均衡，在評估準確率時可能會有所偏頗，試著切分出 y_test 中，0 類別與 1 類別的數量是一樣的 (亦即 y_test 的類別是均衡的)"
   ]
  },
  {
   "cell_type": "code",
   "execution_count": 1,
   "metadata": {},
   "outputs": [],
   "source": [
    "import numpy as np\n",
    "X = np.arange(1000).reshape(200, 5)\n",
    "y = np.zeros(200)\n",
    "y[:40] = 1"
   ]
  },
  {
   "cell_type": "code",
   "execution_count": 2,
   "metadata": {},
   "outputs": [
    {
     "data": {
      "text/plain": [
       "array([1., 1., 1., 1., 1., 1., 1., 1., 1., 1., 1., 1., 1., 1., 1., 1., 1.,\n",
       "       1., 1., 1., 1., 1., 1., 1., 1., 1., 1., 1., 1., 1., 1., 1., 1., 1.,\n",
       "       1., 1., 1., 1., 1., 1., 0., 0., 0., 0., 0., 0., 0., 0., 0., 0., 0.,\n",
       "       0., 0., 0., 0., 0., 0., 0., 0., 0., 0., 0., 0., 0., 0., 0., 0., 0.,\n",
       "       0., 0., 0., 0., 0., 0., 0., 0., 0., 0., 0., 0., 0., 0., 0., 0., 0.,\n",
       "       0., 0., 0., 0., 0., 0., 0., 0., 0., 0., 0., 0., 0., 0., 0., 0., 0.,\n",
       "       0., 0., 0., 0., 0., 0., 0., 0., 0., 0., 0., 0., 0., 0., 0., 0., 0.,\n",
       "       0., 0., 0., 0., 0., 0., 0., 0., 0., 0., 0., 0., 0., 0., 0., 0., 0.,\n",
       "       0., 0., 0., 0., 0., 0., 0., 0., 0., 0., 0., 0., 0., 0., 0., 0., 0.,\n",
       "       0., 0., 0., 0., 0., 0., 0., 0., 0., 0., 0., 0., 0., 0., 0., 0., 0.,\n",
       "       0., 0., 0., 0., 0., 0., 0., 0., 0., 0., 0., 0., 0., 0., 0., 0., 0.,\n",
       "       0., 0., 0., 0., 0., 0., 0., 0., 0., 0., 0., 0., 0.])"
      ]
     },
     "execution_count": 2,
     "metadata": {},
     "output_type": "execute_result"
    }
   ],
   "source": [
    "y"
   ]
  },
  {
   "cell_type": "markdown",
   "metadata": {},
   "source": [
    "可以看見 y 類別中，有 160 個 類別 0，40 個 類別 1 ，請試著使用 train_test_split 函數，切分出 y_test 中能各有 10 筆類別 0 與 10 筆類別 1 。(HINT: 參考函數中的 test_size，可針對不同類別各自作切分後再合併)"
   ]
  },
  {
   "cell_type": "code",
   "execution_count": 7,
   "metadata": {},
   "outputs": [],
   "source": [
    "pos_index = y == 1\n",
    "neg_index = y == 0\n",
    "\n",
    "x_pos, y_pos = X[pos_index], y[pos_index]\n",
    "x_neg, y_neg = X[neg_index], y[neg_index]\n",
    "\n",
    "x_pos_train, x_pos_test, y_pos_train, y_pos_test= train_test_split(x_pos, y_pos, test_size=10)\n",
    "x_neg_train, x_neg_test, y_neg_train, y_neg_test= train_test_split(x_neg, y_neg, test_size=10)\n",
    "\n",
    "x_train = np.vstack((x_pos_train, x_neg_train))\n",
    "x_test = np.vstack((x_pos_test, x_neg_test))\n",
    "y_train = np.hstack((y_pos_train, y_neg_train))\n",
    "y_test = np.hstack((y_pos_test, y_neg_test))"
   ]
  },
  {
   "cell_type": "code",
   "execution_count": 10,
   "metadata": {},
   "outputs": [
    {
     "name": "stdout",
     "output_type": "stream",
     "text": [
      "x_train.shape:(180, 5)\n",
      "x_test.shape:(20, 5)\n",
      "y_train.shape:(180,)\n",
      "y_test.shape:(20,)\n",
      "\n",
      "x_test [[ 70  71  72  73  74]\n",
      " [150 151 152 153 154]\n",
      " [ 95  96  97  98  99]\n",
      " [185 186 187 188 189]\n",
      " [115 116 117 118 119]\n",
      " [125 126 127 128 129]\n",
      " [ 90  91  92  93  94]\n",
      " [ 60  61  62  63  64]\n",
      " [140 141 142 143 144]\n",
      " [165 166 167 168 169]\n",
      " [325 326 327 328 329]\n",
      " [630 631 632 633 634]\n",
      " [570 571 572 573 574]\n",
      " [955 956 957 958 959]\n",
      " [300 301 302 303 304]\n",
      " [515 516 517 518 519]\n",
      " [595 596 597 598 599]\n",
      " [575 576 577 578 579]\n",
      " [660 661 662 663 664]\n",
      " [925 926 927 928 929]]\n",
      "y_test [1. 1. 1. 1. 1. 1. 1. 1. 1. 1. 0. 0. 0. 0. 0. 0. 0. 0. 0. 0.]\n"
     ]
    }
   ],
   "source": [
    "print(f\"x_train.shape:{x_train.shape}\\n\"\n",
    "      f\"x_test.shape:{x_test.shape}\\n\"\n",
    "      f\"y_train.shape:{y_train.shape}\\n\"\n",
    "      f\"y_test.shape:{y_test.shape}\\n\"\n",
    "     )\n",
    "\n",
    "print('x_test', x_test)\n",
    "print('y_test', y_test)"
   ]
  },
  {
   "cell_type": "code",
   "execution_count": 15,
   "metadata": {},
   "outputs": [
    {
     "name": "stdout",
     "output_type": "stream",
     "text": [
      "y_train\n",
      "0.0    150\n",
      "1.0     30\n",
      "dtype: int64\n",
      "--------------------\n",
      "y_test\n",
      "0.0    10\n",
      "1.0    10\n",
      "dtype: int64\n"
     ]
    }
   ],
   "source": [
    "import pandas as pd\n",
    "print(\"y_train\")\n",
    "print(pd.Series(y_train).value_counts())\n",
    "print(\"--\"*10)\n",
    "print(\"y_test\")\n",
    "print(pd.Series(y_test).value_counts())"
   ]
  }
 ],
 "metadata": {
  "kernelspec": {
   "display_name": "Python 3",
   "language": "python",
   "name": "python3"
  },
  "language_info": {
   "codemirror_mode": {
    "name": "ipython",
    "version": 3
   },
   "file_extension": ".py",
   "mimetype": "text/x-python",
   "name": "python",
   "nbconvert_exporter": "python",
   "pygments_lexer": "ipython3",
   "version": "3.7.3"
  }
 },
 "nbformat": 4,
 "nbformat_minor": 2
}
